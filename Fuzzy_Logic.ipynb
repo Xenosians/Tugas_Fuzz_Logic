{
  "nbformat": 4,
  "nbformat_minor": 0,
  "metadata": {
    "colab": {
      "name": "Fuzzy Logic.ipynb",
      "private_outputs": true,
      "provenance": [],
      "collapsed_sections": [],
      "include_colab_link": true
    },
    "kernelspec": {
      "name": "python3",
      "display_name": "Python 3"
    },
    "language_info": {
      "name": "python"
    }
  },
  "cells": [
    {
      "cell_type": "markdown",
      "metadata": {
        "id": "view-in-github",
        "colab_type": "text"
      },
      "source": [
        "<a href=\"https://colab.research.google.com/github/Xenosians/Tugas_Fuzz_Logic/blob/main/Fuzzy_Logic.ipynb\" target=\"_parent\"><img src=\"https://colab.research.google.com/assets/colab-badge.svg\" alt=\"Open In Colab\"/></a>"
      ]
    },
    {
      "cell_type": "code",
      "metadata": {
        "id": "X581nJxwGvv1"
      },
      "source": [
        "import pandas as pd\n",
        "import matplotlib.pyplot as plt\n",
        "\n",
        "!gdown --id 1OqZPEN2m_igflKLzO7w4EFb9717b_jj9\n"
      ],
      "execution_count": null,
      "outputs": []
    },
    {
      "cell_type": "code",
      "metadata": {
        "id": "o6OCrxvyNl3Z"
      },
      "source": [
        "df = pd.read_excel('./Mahasiswa.xlsx.xls')\n",
        "df.head()"
      ],
      "execution_count": null,
      "outputs": []
    },
    {
      "cell_type": "code",
      "metadata": {
        "id": "Dc-1dbj6jwua"
      },
      "source": [
        "class mahasiswa:\n",
        "  def __init__(self):\n",
        "      self.Id = 0\n",
        "      self.Penghasilan = 0\n",
        "      self.Pengeluaran = 0\n",
        "\n",
        "      self.Penghasilan_sedikit = -1\n",
        "      self.Penghasilan_sedang = -1\n",
        "      self.Penghasilan_banyak = -1\n",
        "\n",
        "      self.Pengeluaran_sedikit = -1\n",
        "      self.Pengeluaran_sedang = -1\n",
        "      self.Pengeluaran_banyak = -1\n",
        "\n",
        "      self.ditolak = []\n",
        "      self.dipertimbangkan = []\n",
        "      self.diterima = []\n",
        "\n",
        "      self.ditolak_akhir = 0\n",
        "      self.dipertimbangkan_akhir = 0\n",
        "      self.diterima_akhir = 0\n",
        "\n",
        "      self.nilai_akhir = 0\n",
        "\n",
        "  def tampil(self):\n",
        "      print('id mahasiswa = {} \\n nilai penghasilan = {} \\n nilai pengeluaran = {} , \\n nilai akhir = {} , \\n penghasilan_sedikit = {} , \\n penghasilan_sedang = {} , \\n penghasilan_banyak = {}, \\n pengeluaran_sedikit = {} , \\n pengeluaran_sedang = {} , \\n pengeluaran_banyak = {} , \\n persentase_ditolak = {}, \\n persentase_dipertimbangkan = {} , \\n persentase_diterima = {}'.format(self.Id,self.Penghasilan,self.Pengeluaran,self.nilai_akhir,self.Penghasilan_sedikit,self.Penghasilan_sedang,self.Penghasilan_banyak,self.Pengeluaran_sedikit,self.Pengeluaran_sedang,self.Pengeluaran_banyak,self.ditolak_akhir,self.dipertimbangkan_akhir,self.diterima_akhir))\n",
        "\n",
        "mahasiswa_data = []\n",
        "\n",
        "for i in range(len(df)):\n",
        "    mahasiswa_temp = mahasiswa()\n",
        "    mahasiswa_temp.Id= df.iloc[i][0]\n",
        "    mahasiswa_temp.Penghasilan = df.iloc[i][1]\n",
        "    mahasiswa_temp.Pengeluaran = df.iloc[i][2]\n",
        "    mahasiswa_data.append(mahasiswa_temp)\n",
        "\n",
        "    "
      ],
      "execution_count": null,
      "outputs": []
    },
    {
      "cell_type": "code",
      "metadata": {
        "id": "2yV81-5ogfQK"
      },
      "source": [
        "start = 0\n",
        "a = 4\n",
        "b = 9\n",
        "c = 10\n",
        "d = 15\n",
        "max1 = 20\n",
        "a2 = 2.0\n",
        "b2 = 7.0\n",
        "c2 = 6.0\n",
        "d2 = 11.0\n",
        "max2 = 12\n",
        "def fuzzifikasi(mahasiswa_temp):\n",
        "    for i in range(len(mahasiswa_temp)):\n",
        "      if mahasiswa_temp[i].Penghasilan >= start and mahasiswa_temp[i].Penghasilan < a  :\n",
        "        mahasiswa_temp[i].Penghasilan_sedikit = 1\n",
        "      elif mahasiswa_temp[i].Penghasilan > a and mahasiswa_temp[i].Penghasilan < b :\n",
        "        mahasiswa_temp[i].Penghasilan_sedikit = -(mahasiswa_temp[i].Penghasilan - b ) / (b - a)\n",
        "        mahasiswa_temp[i].Penghasilan_sedang = (mahasiswa_temp[i].Penghasilan - a) / ( b - a )\n",
        "      elif mahasiswa_temp[i].Penghasilan > b and mahasiswa_temp[i].Penghasilan < c  :\n",
        "        mahasiswa_temp[i].Penghasilan_sedang = 1\n",
        "      elif mahasiswa_temp[i].Penghasilan > c and mahasiswa_temp[i].Penghasilan < d  :\n",
        "        mahasiswa_temp[i].Penghasilan_sedang = - (mahasiswa_temp[i].Penghasilan - d ) / ( d - c )\n",
        "        mahasiswa_temp[i].Penghasilan_banyak =  (mahasiswa_temp[i].Penghasilan - c ) / ( d - c )\n",
        "      elif mahasiswa_temp[i].Penghasilan > d and mahasiswa_temp[i].Penghasilan <= max1  :\n",
        "        mahasiswa_temp[i].Penghasilan_banyak = 1\n",
        "      \n",
        "      if mahasiswa_temp[i].Pengeluaran >= start and mahasiswa_temp[i].Pengeluaran < a2 :\n",
        "        mahasiswa_temp[i].Pengeluaran_sedikit = 1\n",
        "      elif mahasiswa_temp[i].Pengeluaran > a2 and mahasiswa_temp[i].Pengeluaran < b2  :\n",
        "        mahasiswa_temp[i].Pengeluaran_sedikit = -(mahasiswa_temp[i].Pengeluaran - b2 ) / (b2 - a2)\n",
        "        mahasiswa_temp[i].Pengeluaran_sedang = (mahasiswa_temp[i].Pengeluaran - a2) / ( b2 - a2 )       \n",
        "      elif mahasiswa_temp[i].Pengeluaran > b2 and mahasiswa_temp[i].Pengeluaran < c2  :\n",
        "        mahasiswa_temp[i].Pengeluaran_sedang = 1\n",
        "      elif mahasiswa_temp[i].Pengeluaran > c2 and mahasiswa_temp[i].Pengeluaran < d2  :\n",
        "        mahasiswa_temp[i].Pengeluaran_sedang = - (mahasiswa_temp[i].Pengeluaran - d2 ) / ( d2 - c2 )\n",
        "        mahasiswa_temp[i].Pengeluaran_banyak =  (mahasiswa_temp[i].Pengeluaran - c2 ) / ( d2 - c2 )\n",
        "      elif mahasiswa_temp[i].Pengeluaran > d2 and mahasiswa_temp[i].Pengeluaran <= max2  :\n",
        "        mahasiswa_temp[i].Pengeluaran_banyak = 1\n",
        "\n",
        "    return mahasiswa_temp \n",
        "      \n",
        "\n",
        "mahasiswa_data = fuzzifikasi(mahasiswa_data)"
      ],
      "execution_count": null,
      "outputs": []
    },
    {
      "cell_type": "code",
      "metadata": {
        "id": "dNTkT4KyeNMa"
      },
      "source": [
        "def inferensi(mahasiswa_temp):\n",
        "\n",
        "    for i in range (len(mahasiswa_temp)):\n",
        "      if mahasiswa_temp[i].Penghasilan_sedikit != -1 :\n",
        "        if mahasiswa_temp[i].Pengeluaran_sedikit != -1 :\n",
        "          mahasiswa_temp[i].dipertimbangkan.append(min(mahasiswa_temp[i].Penghasilan_sedikit , mahasiswa_temp[i].Pengeluaran_sedikit))\n",
        "        if mahasiswa_temp[i].Pengeluaran_sedang != -1 :\n",
        "          mahasiswa_temp[i].diterima.append(min(mahasiswa_temp[i].Penghasilan_sedikit , mahasiswa_temp[i].Pengeluaran_sedang))\n",
        "        if mahasiswa_temp[i].Pengeluaran_banyak != -1 :\n",
        "          mahasiswa_temp[i].diterima.append(min(mahasiswa_temp[i].Penghasilan_sedikit , mahasiswa_temp[i].Pengeluaran_banyak))\n",
        "      if mahasiswa_temp[i].Penghasilan_sedang != -1 :\n",
        "        if mahasiswa_temp[i].Pengeluaran_sedikit != -1 :\n",
        "          mahasiswa_temp[i].ditolak.append(min(mahasiswa_temp[i].Penghasilan_sedang , mahasiswa_temp[i].Pengeluaran_sedikit))\n",
        "        if mahasiswa_temp[i].Pengeluaran_sedang != -1 :\n",
        "          mahasiswa_temp[i].dipertimbangkan.append(min(mahasiswa_temp[i].Penghasilan_sedang , mahasiswa_temp[i].Pengeluaran_sedang))\n",
        "        if mahasiswa_temp[i].Pengeluaran_banyak != -1 :\n",
        "          mahasiswa_temp[i].diterima.append(min(mahasiswa_temp[i].Penghasilan_sedang , mahasiswa_temp[i].Pengeluaran_banyak))\n",
        "      if mahasiswa_temp[i].Penghasilan_banyak != -1 :\n",
        "        if mahasiswa_temp[i].Pengeluaran_sedikit != -1 :\n",
        "          mahasiswa_temp[i].ditolak.append(min(mahasiswa_temp[i].Penghasilan_banyak , mahasiswa_temp[i].Pengeluaran_sedikit))\n",
        "        if mahasiswa_temp[i].Pengeluaran_sedang != -1 :\n",
        "          mahasiswa_temp[i].ditolak.append(min(mahasiswa_temp[i].Penghasilan_banyak , mahasiswa_temp[i].Pengeluaran_sedang))\n",
        "        if mahasiswa_temp[i].Pengeluaran_banyak != -1 :\n",
        "          mahasiswa_temp[i].dipertimbangkan.append(min(mahasiswa_temp[i].Penghasilan_banyak , mahasiswa_temp[i].Pengeluaran_banyak))\n",
        "      \n",
        "      if len(mahasiswa_temp[i].ditolak) != 0 :\n",
        "        mahasiswa_temp[i].ditolak_akhir = max(mahasiswa_temp[i].ditolak)\n",
        "      \n",
        "      if len(mahasiswa_temp[i].dipertimbangkan) != 0 :\n",
        "        mahasiswa_temp[i].dipertimbangkan_akhir = max(mahasiswa_temp[i].dipertimbangkan)\n",
        "\n",
        "      if len(mahasiswa_temp[i].diterima) != 0 :\n",
        "        mahasiswa_temp[i].diterima_akhir = max(mahasiswa_temp[i].diterima)\n",
        "\n",
        "    return mahasiswa_temp      \n",
        "      \n",
        "mahasiswa_data = inferensi(mahasiswa_data)\n",
        "for i in range(len(mahasiswa_data)):\n",
        "  print(mahasiswa_data[i].tampil())"
      ],
      "execution_count": null,
      "outputs": []
    },
    {
      "cell_type": "markdown",
      "metadata": {
        "id": "qyDNgXJRT-bT"
      },
      "source": [
        "# Deffuzification\n",
        "\n",
        "Menggunakan sugeno model untuk fungsi deffuzzifikasi dengan nilai seperti berikut\n",
        "\n",
        "![image.png](data:image/png;base64,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)"
      ]
    },
    {
      "cell_type": "code",
      "metadata": {
        "id": "MAxtWYb9lUTh"
      },
      "source": [
        "def defuzzifikasi(mahasiswa_data):\n",
        "  for i in range(len(mahasiswa_data)):\n",
        "    mahasiswa_data[i].nilai_akhir = mahasiswa_data[i].ditolak_akhir * 20 + mahasiswa_data[i].dipertimbangkan_akhir * 50 + mahasiswa_data[i].diterima_akhir * 80\n",
        "  \n",
        "  return mahasiswa_data\n",
        "\n",
        "mahasiswa_data = defuzzifikasi(mahasiswa_data) \n",
        "for i in range(len(mahasiswa_data)):\n",
        "  print(mahasiswa_data[i].tampil())"
      ],
      "execution_count": null,
      "outputs": []
    },
    {
      "cell_type": "code",
      "metadata": {
        "id": "Zcx8qEE9XhKD"
      },
      "source": [
        "def Sorting(mahasiswa_temp : [mahasiswa()]):\n",
        "  mahasiswa_temp = sorted(mahasiswa_temp , key=lambda y : y.nilai_akhir ,reverse = True)\n",
        "  return mahasiswa_temp\n",
        "\n",
        "mahasiswa_data = Sorting(mahasiswa_data)\n",
        "\n",
        "final_data = []\n",
        "for i in range(len(mahasiswa_data)):\n",
        "  final_temp = []\n",
        "  final_temp.append(mahasiswa_data[i].Id)\n",
        "  final_temp.append(mahasiswa_data[i].Pengeluaran)\n",
        "  final_temp.append(mahasiswa_data[i].Penghasilan)\n",
        "  final_temp.append(mahasiswa_data[i].nilai_akhir)\n",
        "  final_data.append(final_temp)\n",
        "  \n",
        "\n",
        "df_akhir = pd.DataFrame(final_data , columns= [\"Id\" , \"Pengeluaran\" , \"Penghasilan\" , \"Nilai Akhir\"])\n",
        "\n",
        "print(df_akhir)\n",
        "xs = df_akhir.Penghasilan\n",
        "ys = df_akhir.Pengeluaran\n",
        "plt.scatter(xs, ys, s=50, edgecolors=\"black\")\n"
      ],
      "execution_count": null,
      "outputs": []
    }
  ]
}